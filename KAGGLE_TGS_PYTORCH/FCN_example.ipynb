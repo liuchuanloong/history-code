{
 "cells": [
  {
   "cell_type": "markdown",
   "metadata": {},
   "source": [
    "# 定义一个函数进行图片的读入"
   ]
  },
  {
   "cell_type": "code",
   "execution_count": null,
   "metadata": {},
   "outputs": [],
   "source": [
    "voc_root = './data/VOCdevkit/VOC2012'\n",
    "\n",
    "def read_images(root=voc_root, train=True):\n",
    "    txt_fname = root + '/ImageSets/Segmentation/' + ('train.txt' if train else 'val.txt')\n",
    "    with open(txt_fname, 'r') as f:\n",
    "        images = f.read().split()\n",
    "    data = [os.path.join(root, 'JPEGImages', i+'.jpg') for i in images]\n",
    "    label = [os.path.join(root, 'SegmentationClass', i+'.png') for i in images]\n",
    "    return data, label"
   ]
  },
  {
   "cell_type": "markdown",
   "metadata": {},
   "source": [
    "# 数据预处理"
   ]
  },
  {
   "cell_type": "code",
   "execution_count": null,
   "metadata": {},
   "outputs": [],
   "source": [
    "def rand_crop(data, label, height, width):\n",
    "    '''\n",
    "    data is PIL.Image object\n",
    "    label is PIL.Image object\n",
    "    '''\n",
    "    data, rect = tfs.RandomCrop((height, width))(data)\n",
    "    label = tfs.FixedCrop(*rect)(label)\n",
    "    return data, label"
   ]
  },
  {
   "cell_type": "code",
   "execution_count": null,
   "metadata": {},
   "outputs": [],
   "source": [
    "classes = ['background','aeroplane','bicycle','bird','boat',\n",
    "           'bottle','bus','car','cat','chair','cow','diningtable',\n",
    "           'dog','horse','motorbike','person','potted plant',\n",
    "           'sheep','sofa','train','tv/monitor']\n",
    "\n",
    "# RGB color for each class\n",
    "colormap = [[0,0,0],[128,0,0],[0,128,0], [128,128,0], [0,0,128],\n",
    "            [128,0,128],[0,128,128],[128,128,128],[64,0,0],[192,0,0],\n",
    "            [64,128,0],[192,128,0],[64,0,128],[192,0,128],\n",
    "            [64,128,128],[192,128,128],[0,64,0],[128,64,0],\n",
    "            [0,192,0],[128,192,0],[0,64,128]]\n",
    "\n",
    "len(classes), len(colormap)"
   ]
  },
  {
   "cell_type": "markdown",
   "metadata": {},
   "source": [
    "# 建立一个索引，将一个类别的 RGB 值对应到一个整数上"
   ]
  },
  {
   "cell_type": "code",
   "execution_count": null,
   "metadata": {},
   "outputs": [],
   "source": [
    "import numpy as np\n",
    "colormap = [[0,0,0],[128,128,128]]\n",
    "cm2lbl = np.zeros(256**3) # 每个像素点有 0 ~ 255 的选择，RGB 三个通道\n",
    "for i,cm in enumerate(colormap):\n",
    "    cm2lbl[(cm[0]*256+cm[1])*256+cm[2]] = i # 建立索引\n",
    "\n",
    "def image2label(im):\n",
    "    data = np.array(im, dtype='int32')\n",
    "    idx = (data[:, :, 0] * 256 + data[:, :, 1]) * 256 + data[:, :, 2]\n",
    "    return np.array(cm2lbl[idx], dtype='int64') # 根据索引得到 label 矩阵"
   ]
  },
  {
   "cell_type": "code",
   "execution_count": null,
   "metadata": {},
   "outputs": [],
   "source": [
    "from PIL import Image\n",
    "import cv2\n",
    "label_im = cv2.imread('/home/loong/ubuntu/KAGGLE/saltdata/train/masks/0a1742c740.png')\n",
    "plt.figure()\n",
    "plt.imshow(label_im)\n",
    "plt.show()\n",
    "label = image2label(label_im)\n",
    "from matplotlib import pyplot as plt\n",
    "plt.figure()\n",
    "plt.imshow(label)\n",
    "plt.show()"
   ]
  },
  {
   "cell_type": "markdown",
   "metadata": {},
   "source": [
    "# 定义数据预处理方式"
   ]
  },
  {
   "cell_type": "code",
   "execution_count": null,
   "metadata": {},
   "outputs": [],
   "source": [
    "def img_transforms(im, label, crop_size):\n",
    "    im, label = rand_crop(im, label, *crop_size)\n",
    "    im_tfs = tfs.Compose([\n",
    "        tfs.ToTensor(),\n",
    "        tfs.Normalize([0.485, 0.456, 0.406], [0.229, 0.224, 0.225])\n",
    "    ])\n",
    "    \n",
    "    im = im_tfs(im)\n",
    "    label = image2label(label)\n",
    "    label = torch.from_numpy(label)\n",
    "    return im, label"
   ]
  },
  {
   "cell_type": "code",
   "execution_count": null,
   "metadata": {},
   "outputs": [],
   "source": [
    "class VOCSegDataset(Dataset):\n",
    "    '''\n",
    "    voc dataset\n",
    "    '''\n",
    "    def __init__(self, train, crop_size, transforms):\n",
    "        self.crop_size = crop_size\n",
    "        self.transforms = transforms\n",
    "        data_list, label_list = read_images(train=train)\n",
    "        self.data_list = self._filter(data_list)\n",
    "        self.label_list = self._filter(label_list)\n",
    "        print('Read ' + str(len(self.data_list)) + ' images')\n",
    "        \n",
    "    def _filter(self, images): # 过滤掉图片大小小于 crop 大小的图片\n",
    "        return [im for im in images if (Image.open(im).size[1] >= self.crop_size[0] and \n",
    "                                        Image.open(im).size[0] >= self.crop_size[1])]\n",
    "        \n",
    "    def __getitem__(self, idx):\n",
    "        img = self.data_list[idx]\n",
    "        label = self.label_list[idx]\n",
    "        img = Image.open(img)\n",
    "        label = Image.open(label).convert('RGB')\n",
    "        img, label = self.transforms(img, label, self.crop_size)\n",
    "        return img, label\n",
    "    \n",
    "    def __len__(self):\n",
    "        return len(self.data_list)"
   ]
  },
  {
   "cell_type": "code",
   "execution_count": null,
   "metadata": {},
   "outputs": [],
   "source": [
    "input_shape = (320, 480)\n",
    "voc_train = VOCSegDataset(True, input_shape, img_transforms)\n",
    "voc_test = VOCSegDataset(False, input_shape, img_transforms)\n",
    "\n",
    "train_data = DataLoader(voc_train, 64, shuffle=True, num_workers=4)\n",
    "valid_data = DataLoader(voc_test, 128, num_workers=4)"
   ]
  }
 ],
 "metadata": {
  "kernelspec": {
   "display_name": "Python(pytorch3.6)",
   "language": "python",
   "name": "pythorch3.6"
  },
  "language_info": {
   "codemirror_mode": {
    "name": "ipython",
    "version": 3
   },
   "file_extension": ".py",
   "mimetype": "text/x-python",
   "name": "python",
   "nbconvert_exporter": "python",
   "pygments_lexer": "ipython3",
   "version": "3.6.0"
  }
 },
 "nbformat": 4,
 "nbformat_minor": 2
}
