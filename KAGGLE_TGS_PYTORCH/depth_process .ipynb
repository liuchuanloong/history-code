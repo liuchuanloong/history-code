{
 "cells": [
  {
   "cell_type": "markdown",
   "metadata": {},
   "source": [
    "# 提取将完全黑色的mask图像的深度 "
   ]
  },
  {
   "cell_type": "code",
   "execution_count": 1,
   "metadata": {},
   "outputs": [
    {
     "data": {
      "application/vnd.jupyter.widget-view+json": {
       "model_id": "6c39ac693ffd4cf5914c761ac1ee78a8",
       "version_major": 2,
       "version_minor": 0
      },
      "text/plain": [
       "A Jupyter Widget"
      ]
     },
     "metadata": {},
     "output_type": "display_data"
    },
    {
     "name": "stdout",
     "output_type": "stream",
     "text": [
      "\n",
      "2438\n",
      "Done!\n"
     ]
    }
   ],
   "source": [
    "import csv\n",
    "import pandas as pd\n",
    "import numpy as np\n",
    "import cv2\n",
    "import sys\n",
    "import os\n",
    "from tqdm import tqdm_notebook\n",
    "\n",
    "did = []\n",
    "dd = []\n",
    "path_train = \"./saltdata/train/\"\n",
    "train_csv_path = \"./saltdata/train.csv\"\n",
    "depths_path = './saltdata/depths.csv'\n",
    "\n",
    "\n",
    "def load_img(path):\n",
    "    return cv2.imread(path)\n",
    "\n",
    "def get_ids(csv_path):\n",
    "    #list_id中保存的是训练图片的名称，但是没有后缀\n",
    "    df = pd.read_csv(csv_path)\n",
    "    list_id = []\n",
    "    for i,item in df.iterrows():\n",
    "        list_id.append(item[0]+\".png\")\n",
    "    return list_id\n",
    "def read_depths(csv_path):\n",
    "    df = pd.read_csv(csv_path)\n",
    "    list_id = []\n",
    "    list_depths = []\n",
    "    for i,item in df.iterrows():\n",
    "        list_id.append(item[0])\n",
    "        list_depths.append(item[1])\n",
    "    return list_id, list_depths\n",
    "def get_depths(id_, ids, depths):\n",
    "    #list_id中保存的是训练图片的名称，但是没有后缀\n",
    "    c = ids.index(id_)\n",
    "    depth = depths[c]\n",
    "    return id_, depth\n",
    "\n",
    "train_ids = get_ids(train_csv_path)\n",
    "\n",
    "ids, depths = read_depths(depths_path)\n",
    "\n",
    "for n, id_ in tqdm_notebook(enumerate(train_ids), total=len(train_ids)):\n",
    "    path = path_train\n",
    "    mask = np.array(load_img(path + '/masks/' + id_))\n",
    "    if not np.all(mask == 0):\n",
    "        id_ = id_.split('.')[0]\n",
    "        id_, depth = get_depths(id_, ids, depths)\n",
    "        did.append(id_)\n",
    "        dd.append(depth)\n",
    "    idd = zip(did, dd)\n",
    "print(len(idd))\n",
    "\n",
    "# #python2可以用file替代open\n",
    "# with open(\"mask_deep.csv\",\"a\") as csvfile: \n",
    "#     writer = csv.writer(csvfile)\n",
    "#     writer.writerows(idd)\n",
    "print('Done!')"
   ]
  },
  {
   "cell_type": "markdown",
   "metadata": {},
   "source": [
    "# 统计mask的分布"
   ]
  },
  {
   "cell_type": "code",
   "execution_count": 2,
   "metadata": {},
   "outputs": [
    {
     "data": {
      "image/png": "[encoded data removed]",
      "text/plain": [
       "<matplotlib.figure.Figure at 0x7feac0559490>"
      ]
     },
     "metadata": {},
     "output_type": "display_data"
    }
   ],
   "source": [
    "import sys\n",
    "reload(sys)\n",
    "sys.setdefaultencoding('utf8')\n",
    "import numpy as np\n",
    "import matplotlib as mpl\n",
    "from matplotlib import pyplot as plt\n",
    "\n",
    "def init():\n",
    "    mpl.rcParams['font.sans-serif'] = [u'SimHei']  # 正常显示中文（FangSong/黑体 FangSong/KaiTi）\n",
    "    mpl.rcParams['axes.unicode_minus'] = False  # 正常显示负号\n",
    "\n",
    "# 直方图\n",
    "def zft(x):\n",
    "    plt.figure(facecolor='w')\n",
    "    plt.hist(x, bins=70, facecolor='green', align='mid', alpha=0.75)\n",
    "    plt.xlabel('X')\n",
    "    plt.ylabel('Count')\n",
    "    plt.title('直方图')\n",
    "    plt.show()\n",
    "\n",
    "# 绘图示例\n",
    "if __name__ == \"__main__\":\n",
    "    init()\n",
    "\n",
    "    zft(dd)"
   ]
  },
  {
   "cell_type": "code",
   "execution_count": 6,
   "metadata": {},
   "outputs": [
    {
     "data": {
      "application/vnd.jupyter.widget-view+json": {
       "model_id": "29ff201e6d224b0191345258f85eb57b",
       "version_major": 2,
       "version_minor": 0
      },
      "text/plain": [
       "A Jupyter Widget"
      ]
     },
     "metadata": {},
     "output_type": "display_data"
    },
    {
     "name": "stdout",
     "output_type": "stream",
     "text": [
      "./saltdata/train/masks0b9981aba1.png\n",
      "./saltdata/train/masksbc3156b1e4.png\n",
      "./saltdata/train/masks06d21d76c4.png\n",
      "./saltdata/train/masks4ad8a63538.png\n",
      "./saltdata/train/masksda5ab3d506.png\n",
      "./saltdata/train/masksb749a000ea.png\n",
      "./saltdata/train/masksb7b83447c4.png\n",
      "./saltdata/train/masksa37249665e.png\n",
      "./saltdata/train/masksc5745e04ff.png\n",
      "./saltdata/train/masks0b45bde756.png\n",
      "./saltdata/train/masks80a458a2b6.png\n",
      "./saltdata/train/masks4bb8260218.png\n",
      "./saltdata/train/masksb1be1fa682.png\n",
      "./saltdata/train/masksb6f907680a.png\n",
      "./saltdata/train/masks62e608259a.png\n",
      "./saltdata/train/masks0ddcd3fd1a.png\n",
      "./saltdata/train/masksd4d34af4f7.png\n",
      "./saltdata/train/masks66fed16154.png\n",
      "./saltdata/train/masks50b3aef4c4.png\n",
      "./saltdata/train/masks7c0b76979f.png\n",
      "./saltdata/train/masksb6aa5c7ab4.png\n",
      "./saltdata/train/masks70a32506ab.png\n",
      "./saltdata/train/masks299ef808f6.png\n",
      "./saltdata/train/masksed7251fc01.png\n",
      "./saltdata/train/masks737e6513c8.png\n"
     ]
    }
   ],
   "source": [
    "from matplotlib  import pyplot as plt\n",
    "\n",
    "# 获取列表的第二个元素\n",
    "def takeSecond(elem):\n",
    "    return elem[1]\n",
    "idd.sort(key=takeSecond)\n",
    "for n, item in tqdm_notebook(enumerate(idd), total=len(idd)):\n",
    "    \n",
    "    img_mask = cv2.imread(path_train + 'masks/' + item[0] + '.png')\n",
    "    print(path_train + 'masks' + item[0] + '.png')\n",
    "    plt.figure(figsize=(50, 50)) \n",
    "    plt.xlabel(item[1])\n",
    "    plt.imshow(img_mask)\n",
    "    plt.savefig('./order/' + str(item[1]) + '.png')\n",
    "    if (n+1)%25 == 0:      \n",
    "        break\n"
   ]
  },
  {
   "cell_type": "code",
   "execution_count": null,
   "metadata": {
    "collapsed": true
   },
   "outputs": [],
   "source": []
  }
 ],
 "metadata": {
  "kernelspec": {
   "display_name": "Python 2",
   "language": "python",
   "name": "python2"
  },
  "language_info": {
   "codemirror_mode": {
    "name": "ipython",
    "version": 2
   },
   "file_extension": ".py",
   "mimetype": "text/x-python",
   "name": "python",
   "nbconvert_exporter": "python",
   "pygments_lexer": "ipython2",
   "version": "2.7.14"
  }
 },
 "nbformat": 4,
 "nbformat_minor": 2
}
